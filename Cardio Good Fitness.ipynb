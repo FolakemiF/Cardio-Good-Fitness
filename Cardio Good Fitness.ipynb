{
 "cells": [
  {
   "cell_type": "code",
   "execution_count": 1,
   "id": "b3789aaa",
   "metadata": {},
   "outputs": [],
   "source": [
    "import numpy as np\n",
    "import pandas as pd\n",
    "import seaborn as sns\n",
    "import matplotlib.pyplot as plt"
   ]
  },
  {
   "cell_type": "markdown",
   "id": "b66b539f",
   "metadata": {},
   "source": [
    "## STEP 1: Load the Data"
   ]
  },
  {
   "cell_type": "code",
   "execution_count": 2,
   "id": "279e2553",
   "metadata": {},
   "outputs": [],
   "source": [
    "data = pd.read_csv(r\"CardioGoodFitness-1.csv\")"
   ]
  },
  {
   "cell_type": "code",
   "execution_count": 5,
   "id": "9fdc2a81",
   "metadata": {},
   "outputs": [
    {
     "data": {
      "text/html": [
       "<div>\n",
       "<style scoped>\n",
       "    .dataframe tbody tr th:only-of-type {\n",
       "        vertical-align: middle;\n",
       "    }\n",
       "\n",
       "    .dataframe tbody tr th {\n",
       "        vertical-align: top;\n",
       "    }\n",
       "\n",
       "    .dataframe thead th {\n",
       "        text-align: right;\n",
       "    }\n",
       "</style>\n",
       "<table border=\"1\" class=\"dataframe\">\n",
       "  <thead>\n",
       "    <tr style=\"text-align: right;\">\n",
       "      <th></th>\n",
       "      <th>Product</th>\n",
       "      <th>Age</th>\n",
       "      <th>Gender</th>\n",
       "      <th>Education</th>\n",
       "      <th>MaritalStatus</th>\n",
       "      <th>Usage</th>\n",
       "      <th>Fitness</th>\n",
       "      <th>Income</th>\n",
       "      <th>Miles</th>\n",
       "    </tr>\n",
       "  </thead>\n",
       "  <tbody>\n",
       "    <tr>\n",
       "      <th>6</th>\n",
       "      <td>TM195</td>\n",
       "      <td>21</td>\n",
       "      <td>Female</td>\n",
       "      <td>14</td>\n",
       "      <td>Partnered</td>\n",
       "      <td>3</td>\n",
       "      <td>3</td>\n",
       "      <td>35247</td>\n",
       "      <td>75</td>\n",
       "    </tr>\n",
       "    <tr>\n",
       "      <th>18</th>\n",
       "      <td>TM195</td>\n",
       "      <td>23</td>\n",
       "      <td>Female</td>\n",
       "      <td>16</td>\n",
       "      <td>Single</td>\n",
       "      <td>4</td>\n",
       "      <td>3</td>\n",
       "      <td>38658</td>\n",
       "      <td>113</td>\n",
       "    </tr>\n",
       "    <tr>\n",
       "      <th>146</th>\n",
       "      <td>TM798</td>\n",
       "      <td>24</td>\n",
       "      <td>Male</td>\n",
       "      <td>16</td>\n",
       "      <td>Single</td>\n",
       "      <td>4</td>\n",
       "      <td>5</td>\n",
       "      <td>61006</td>\n",
       "      <td>100</td>\n",
       "    </tr>\n",
       "    <tr>\n",
       "      <th>93</th>\n",
       "      <td>TM498</td>\n",
       "      <td>23</td>\n",
       "      <td>Male</td>\n",
       "      <td>16</td>\n",
       "      <td>Partnered</td>\n",
       "      <td>3</td>\n",
       "      <td>3</td>\n",
       "      <td>45480</td>\n",
       "      <td>64</td>\n",
       "    </tr>\n",
       "    <tr>\n",
       "      <th>42</th>\n",
       "      <td>TM195</td>\n",
       "      <td>27</td>\n",
       "      <td>Male</td>\n",
       "      <td>16</td>\n",
       "      <td>Single</td>\n",
       "      <td>4</td>\n",
       "      <td>3</td>\n",
       "      <td>54576</td>\n",
       "      <td>85</td>\n",
       "    </tr>\n",
       "    <tr>\n",
       "      <th>164</th>\n",
       "      <td>TM798</td>\n",
       "      <td>28</td>\n",
       "      <td>Male</td>\n",
       "      <td>18</td>\n",
       "      <td>Single</td>\n",
       "      <td>6</td>\n",
       "      <td>5</td>\n",
       "      <td>88396</td>\n",
       "      <td>150</td>\n",
       "    </tr>\n",
       "    <tr>\n",
       "      <th>16</th>\n",
       "      <td>TM195</td>\n",
       "      <td>23</td>\n",
       "      <td>Female</td>\n",
       "      <td>14</td>\n",
       "      <td>Single</td>\n",
       "      <td>2</td>\n",
       "      <td>3</td>\n",
       "      <td>34110</td>\n",
       "      <td>103</td>\n",
       "    </tr>\n",
       "    <tr>\n",
       "      <th>43</th>\n",
       "      <td>TM195</td>\n",
       "      <td>27</td>\n",
       "      <td>Female</td>\n",
       "      <td>14</td>\n",
       "      <td>Partnered</td>\n",
       "      <td>2</td>\n",
       "      <td>3</td>\n",
       "      <td>45480</td>\n",
       "      <td>56</td>\n",
       "    </tr>\n",
       "    <tr>\n",
       "      <th>157</th>\n",
       "      <td>TM798</td>\n",
       "      <td>26</td>\n",
       "      <td>Female</td>\n",
       "      <td>21</td>\n",
       "      <td>Single</td>\n",
       "      <td>4</td>\n",
       "      <td>3</td>\n",
       "      <td>69721</td>\n",
       "      <td>100</td>\n",
       "    </tr>\n",
       "    <tr>\n",
       "      <th>120</th>\n",
       "      <td>TM498</td>\n",
       "      <td>33</td>\n",
       "      <td>Male</td>\n",
       "      <td>13</td>\n",
       "      <td>Partnered</td>\n",
       "      <td>4</td>\n",
       "      <td>4</td>\n",
       "      <td>53439</td>\n",
       "      <td>170</td>\n",
       "    </tr>\n",
       "  </tbody>\n",
       "</table>\n",
       "</div>"
      ],
      "text/plain": [
       "    Product  Age  Gender  Education MaritalStatus  Usage  Fitness  Income  \\\n",
       "6     TM195   21  Female         14     Partnered      3        3   35247   \n",
       "18    TM195   23  Female         16        Single      4        3   38658   \n",
       "146   TM798   24    Male         16        Single      4        5   61006   \n",
       "93    TM498   23    Male         16     Partnered      3        3   45480   \n",
       "42    TM195   27    Male         16        Single      4        3   54576   \n",
       "164   TM798   28    Male         18        Single      6        5   88396   \n",
       "16    TM195   23  Female         14        Single      2        3   34110   \n",
       "43    TM195   27  Female         14     Partnered      2        3   45480   \n",
       "157   TM798   26  Female         21        Single      4        3   69721   \n",
       "120   TM498   33    Male         13     Partnered      4        4   53439   \n",
       "\n",
       "     Miles  \n",
       "6       75  \n",
       "18     113  \n",
       "146    100  \n",
       "93      64  \n",
       "42      85  \n",
       "164    150  \n",
       "16     103  \n",
       "43      56  \n",
       "157    100  \n",
       "120    170  "
      ]
     },
     "execution_count": 5,
     "metadata": {},
     "output_type": "execute_result"
    }
   ],
   "source": [
    "#Copy the data to avoid manipulting original dataset\n",
    "df = data.copy()\n",
    "df.sample(10)"
   ]
  },
  {
   "cell_type": "code",
   "execution_count": 6,
   "id": "5abca766",
   "metadata": {},
   "outputs": [
    {
     "data": {
      "text/plain": [
       "(180, 9)"
      ]
     },
     "execution_count": 6,
     "metadata": {},
     "output_type": "execute_result"
    }
   ],
   "source": [
    "#Know the shape of the dataset\n",
    "df.shape"
   ]
  },
  {
   "cell_type": "markdown",
   "id": "a760fc58",
   "metadata": {},
   "source": [
    "## Step 2: Understand the data"
   ]
  },
  {
   "cell_type": "markdown",
   "id": "3feebc47",
   "metadata": {},
   "source": [
    "- The data is about customers of the treadmill product(s) of a retail store called Cardio Good Fitness\n",
    "\n",
    "#### Determine the problem statement or insight to get from the data\n",
    "- There are no problems here to solve but we can get insight to improve business performance\n",
    "- We will take a look at the attributes of customer that patronize different poducts, this can be used for marketing purpose to achieve the right target audience based of the customer's demographic characteristics\n",
    "\n",
    "#### Determine the target variable\n",
    "- The target variable here is the usuage. The business want to get more customers to use the treadmill and also more usage for existing customers."
   ]
  },
  {
   "cell_type": "code",
   "execution_count": 7,
   "id": "d22b338c",
   "metadata": {},
   "outputs": [
    {
     "data": {
      "text/html": [
       "<div>\n",
       "<style scoped>\n",
       "    .dataframe tbody tr th:only-of-type {\n",
       "        vertical-align: middle;\n",
       "    }\n",
       "\n",
       "    .dataframe tbody tr th {\n",
       "        vertical-align: top;\n",
       "    }\n",
       "\n",
       "    .dataframe thead th {\n",
       "        text-align: right;\n",
       "    }\n",
       "</style>\n",
       "<table border=\"1\" class=\"dataframe\">\n",
       "  <thead>\n",
       "    <tr style=\"text-align: right;\">\n",
       "      <th></th>\n",
       "      <th>Age</th>\n",
       "      <th>Education</th>\n",
       "      <th>Usage</th>\n",
       "      <th>Fitness</th>\n",
       "      <th>Income</th>\n",
       "      <th>Miles</th>\n",
       "    </tr>\n",
       "  </thead>\n",
       "  <tbody>\n",
       "    <tr>\n",
       "      <th>count</th>\n",
       "      <td>180.000000</td>\n",
       "      <td>180.000000</td>\n",
       "      <td>180.000000</td>\n",
       "      <td>180.000000</td>\n",
       "      <td>180.000000</td>\n",
       "      <td>180.000000</td>\n",
       "    </tr>\n",
       "    <tr>\n",
       "      <th>mean</th>\n",
       "      <td>28.788889</td>\n",
       "      <td>15.572222</td>\n",
       "      <td>3.455556</td>\n",
       "      <td>3.311111</td>\n",
       "      <td>53719.577778</td>\n",
       "      <td>103.194444</td>\n",
       "    </tr>\n",
       "    <tr>\n",
       "      <th>std</th>\n",
       "      <td>6.943498</td>\n",
       "      <td>1.617055</td>\n",
       "      <td>1.084797</td>\n",
       "      <td>0.958869</td>\n",
       "      <td>16506.684226</td>\n",
       "      <td>51.863605</td>\n",
       "    </tr>\n",
       "    <tr>\n",
       "      <th>min</th>\n",
       "      <td>18.000000</td>\n",
       "      <td>12.000000</td>\n",
       "      <td>2.000000</td>\n",
       "      <td>1.000000</td>\n",
       "      <td>29562.000000</td>\n",
       "      <td>21.000000</td>\n",
       "    </tr>\n",
       "    <tr>\n",
       "      <th>25%</th>\n",
       "      <td>24.000000</td>\n",
       "      <td>14.000000</td>\n",
       "      <td>3.000000</td>\n",
       "      <td>3.000000</td>\n",
       "      <td>44058.750000</td>\n",
       "      <td>66.000000</td>\n",
       "    </tr>\n",
       "    <tr>\n",
       "      <th>50%</th>\n",
       "      <td>26.000000</td>\n",
       "      <td>16.000000</td>\n",
       "      <td>3.000000</td>\n",
       "      <td>3.000000</td>\n",
       "      <td>50596.500000</td>\n",
       "      <td>94.000000</td>\n",
       "    </tr>\n",
       "    <tr>\n",
       "      <th>75%</th>\n",
       "      <td>33.000000</td>\n",
       "      <td>16.000000</td>\n",
       "      <td>4.000000</td>\n",
       "      <td>4.000000</td>\n",
       "      <td>58668.000000</td>\n",
       "      <td>114.750000</td>\n",
       "    </tr>\n",
       "    <tr>\n",
       "      <th>max</th>\n",
       "      <td>50.000000</td>\n",
       "      <td>21.000000</td>\n",
       "      <td>7.000000</td>\n",
       "      <td>5.000000</td>\n",
       "      <td>104581.000000</td>\n",
       "      <td>360.000000</td>\n",
       "    </tr>\n",
       "  </tbody>\n",
       "</table>\n",
       "</div>"
      ],
      "text/plain": [
       "              Age   Education       Usage     Fitness         Income  \\\n",
       "count  180.000000  180.000000  180.000000  180.000000     180.000000   \n",
       "mean    28.788889   15.572222    3.455556    3.311111   53719.577778   \n",
       "std      6.943498    1.617055    1.084797    0.958869   16506.684226   \n",
       "min     18.000000   12.000000    2.000000    1.000000   29562.000000   \n",
       "25%     24.000000   14.000000    3.000000    3.000000   44058.750000   \n",
       "50%     26.000000   16.000000    3.000000    3.000000   50596.500000   \n",
       "75%     33.000000   16.000000    4.000000    4.000000   58668.000000   \n",
       "max     50.000000   21.000000    7.000000    5.000000  104581.000000   \n",
       "\n",
       "            Miles  \n",
       "count  180.000000  \n",
       "mean   103.194444  \n",
       "std     51.863605  \n",
       "min     21.000000  \n",
       "25%     66.000000  \n",
       "50%     94.000000  \n",
       "75%    114.750000  \n",
       "max    360.000000  "
      ]
     },
     "execution_count": 7,
     "metadata": {},
     "output_type": "execute_result"
    }
   ],
   "source": [
    "df.describe()"
   ]
  },
  {
   "cell_type": "markdown",
   "id": "ad0dc0f6",
   "metadata": {},
   "source": [
    "- The average age of the customers is approximately 29years with minimum age of 18 and maximum of 50\n",
    "- The average years of Education of the customers is approximately 15.8years with minimum of 12 and maximum of 21\n",
    "- The average usage of the customers is approximately 3.5, with minimum usuage of 2 and maximum usage of 7\n",
    "- The average fitness of the customers is  3.3 with minimum of 1 and maximum of 5\n",
    "- The average income of the customers is approximately 53,720, with minimum income of 29,562 and maximum income of 104,581\n",
    "- The average miles a customer expects to run is approximately 103, with minimum being 21 and maximimum 360"
   ]
  },
  {
   "cell_type": "markdown",
   "id": "0ce8a155",
   "metadata": {},
   "source": [
    "## Step 3: Explore the data to find errors"
   ]
  },
  {
   "cell_type": "markdown",
   "id": "60805f98",
   "metadata": {},
   "source": [
    "#### 3a. Check for duplicates"
   ]
  },
  {
   "cell_type": "code",
   "execution_count": 8,
   "id": "5e28cf82",
   "metadata": {},
   "outputs": [
    {
     "data": {
      "text/plain": [
       "0"
      ]
     },
     "execution_count": 8,
     "metadata": {},
     "output_type": "execute_result"
    }
   ],
   "source": [
    "df.duplicated().sum()"
   ]
  },
  {
   "cell_type": "markdown",
   "id": "1f732432",
   "metadata": {},
   "source": [
    "###### There are no duplicate values in the dataset"
   ]
  },
  {
   "cell_type": "markdown",
   "id": "7c21e782",
   "metadata": {},
   "source": [
    "#### 3b. Check for missing values"
   ]
  },
  {
   "cell_type": "code",
   "execution_count": 10,
   "id": "0d3e4c0f",
   "metadata": {},
   "outputs": [
    {
     "data": {
      "text/plain": [
       "Product          0\n",
       "Age              0\n",
       "Gender           0\n",
       "Education        0\n",
       "MaritalStatus    0\n",
       "Usage            0\n",
       "Fitness          0\n",
       "Income           0\n",
       "Miles            0\n",
       "dtype: int64"
      ]
     },
     "execution_count": 10,
     "metadata": {},
     "output_type": "execute_result"
    }
   ],
   "source": [
    "df.isnull().sum()"
   ]
  },
  {
   "cell_type": "markdown",
   "id": "3a93734c",
   "metadata": {},
   "source": [
    "###### There are no missing values"
   ]
  },
  {
   "cell_type": "markdown",
   "id": "a83e538b",
   "metadata": {},
   "source": [
    "#### 3c. Check data type of each variable to check if there are any inconsistencies"
   ]
  },
  {
   "cell_type": "code",
   "execution_count": 11,
   "id": "6fe3c243",
   "metadata": {},
   "outputs": [
    {
     "name": "stdout",
     "output_type": "stream",
     "text": [
      "<class 'pandas.core.frame.DataFrame'>\n",
      "RangeIndex: 180 entries, 0 to 179\n",
      "Data columns (total 9 columns):\n",
      " #   Column         Non-Null Count  Dtype \n",
      "---  ------         --------------  ----- \n",
      " 0   Product        180 non-null    object\n",
      " 1   Age            180 non-null    int64 \n",
      " 2   Gender         180 non-null    object\n",
      " 3   Education      180 non-null    int64 \n",
      " 4   MaritalStatus  180 non-null    object\n",
      " 5   Usage          180 non-null    int64 \n",
      " 6   Fitness        180 non-null    int64 \n",
      " 7   Income         180 non-null    int64 \n",
      " 8   Miles          180 non-null    int64 \n",
      "dtypes: int64(6), object(3)\n",
      "memory usage: 12.8+ KB\n"
     ]
    }
   ],
   "source": [
    "df.info()"
   ]
  },
  {
   "cell_type": "markdown",
   "id": "49858965",
   "metadata": {},
   "source": [
    "###### There are no issues with the data type of each variables"
   ]
  },
  {
   "cell_type": "markdown",
   "id": "5d90a8ab",
   "metadata": {},
   "source": [
    "#### 3d. Check unique values to know if there are any formatting issues and to gain more insight on each variable"
   ]
  },
  {
   "cell_type": "code",
   "execution_count": 12,
   "id": "5861de8b",
   "metadata": {},
   "outputs": [
    {
     "data": {
      "text/plain": [
       "array(['TM195', 'TM498', 'TM798'], dtype=object)"
      ]
     },
     "execution_count": 12,
     "metadata": {},
     "output_type": "execute_result"
    }
   ],
   "source": [
    "df['Product'].unique()\n",
    "#there are no format errors\n",
    "#The company has 3 unique products"
   ]
  },
  {
   "cell_type": "code",
   "execution_count": 13,
   "id": "31557c21",
   "metadata": {},
   "outputs": [
    {
     "data": {
      "text/plain": [
       "array(['Male', 'Female'], dtype=object)"
      ]
     },
     "execution_count": 13,
     "metadata": {},
     "output_type": "execute_result"
    }
   ],
   "source": [
    "df['Gender'].unique()\n",
    "#there are no format errors"
   ]
  },
  {
   "cell_type": "code",
   "execution_count": 14,
   "id": "74b1b382",
   "metadata": {},
   "outputs": [
    {
     "data": {
      "text/plain": [
       "array(['Single', 'Partnered'], dtype=object)"
      ]
     },
     "execution_count": 14,
     "metadata": {},
     "output_type": "execute_result"
    }
   ],
   "source": [
    "df['MaritalStatus'].unique()\n",
    "#there are no format errors"
   ]
  },
  {
   "cell_type": "code",
   "execution_count": 15,
   "id": "1bcf25e2",
   "metadata": {},
   "outputs": [],
   "source": [
    "### we can also use .unique() to discover Nan Values"
   ]
  },
  {
   "cell_type": "markdown",
   "id": "e50c318c",
   "metadata": {},
   "source": [
    "#### There are no errors or issues with the data which means it is clean"
   ]
  },
  {
   "cell_type": "markdown",
   "id": "0ced4797",
   "metadata": {},
   "source": [
    "### Step 4: Analyze and Visualize the data"
   ]
  },
  {
   "cell_type": "markdown",
   "id": "9fc81bfa",
   "metadata": {},
   "source": [
    "### 4a. Univariant Analysis\n",
    "- Visualize each variable in the data to get more insight"
   ]
  },
  {
   "cell_type": "code",
   "execution_count": 43,
   "id": "1583e4c9",
   "metadata": {},
   "outputs": [
    {
     "data": {
      "image/png": "[encoded data removed]",
      "text/plain": [
       "<Figure size 360x360 with 1 Axes>"
      ]
     },
     "metadata": {
      "needs_background": "light"
     },
     "output_type": "display_data"
    }
   ],
   "source": [
    "sns.displot(df, x=\"Product\", color = 'teal')\n",
    "plt.title(\"Company's Product\");\n",
    "plt.ylabel(\"Count of Product\");"
   ]
  },
  {
   "cell_type": "markdown",
   "id": "bbb19dcb",
   "metadata": {},
   "source": [
    "- ####  This show that majority of the customer use TM195 more than other product\n",
    "- ####  This doesn't show the frequency of usuage of the product"
   ]
  },
  {
   "cell_type": "code",
   "execution_count": 48,
   "id": "880e5409",
   "metadata": {},
   "outputs": [
    {
     "data": {
      "image/png": "[encoded data removed]",
      "text/plain": [
       "<Figure size 360x360 with 1 Axes>"
      ]
     },
     "metadata": {
      "needs_background": "light"
     },
     "output_type": "display_data"
    }
   ],
   "source": [
    "sns.displot(df, x=\"Age\", color = 'teal')\n",
    "plt.title(\"Customer's Age\");\n",
    "plt.ylabel(\"Count of Age\");"
   ]
  },
  {
   "cell_type": "markdown",
   "id": "679089bc",
   "metadata": {},
   "source": [
    "- #### Majority of the customers are between the age of 25-26years"
   ]
  },
  {
   "cell_type": "code",
   "execution_count": 49,
   "id": "31257b10",
   "metadata": {},
   "outputs": [
    {
     "data": {
      "image/png": "[encoded data removed]",
      "text/plain": [
       "<Figure size 360x360 with 1 Axes>"
      ]
     },
     "metadata": {
      "needs_background": "light"
     },
     "output_type": "display_data"
    }
   ],
   "source": [
    "sns.displot(df, x=\"Gender\", color = 'teal')\n",
    "plt.title(\"Customer's Gender\");\n",
    "plt.ylabel(\"Count of Gender\");"
   ]
  },
  {
   "cell_type": "markdown",
   "id": "4729ca30",
   "metadata": {},
   "source": [
    "- #### Majority of the customer that patronizes the company are Male"
   ]
  },
  {
   "cell_type": "code",
   "execution_count": 50,
   "id": "e25d10b7",
   "metadata": {},
   "outputs": [
    {
     "data": {
      "image/png": "[encoded data removed]",
      "text/plain": [
       "<Figure size 360x360 with 1 Axes>"
      ]
     },
     "metadata": {
      "needs_background": "light"
     },
     "output_type": "display_data"
    }
   ],
   "source": [
    "sns.displot(df, x=\"Gender\", color = 'teal')\n",
    "plt.title(\"Customer's Gender\");\n",
    "plt.ylabel(\"Count of Gender\");"
   ]
  },
  {
   "cell_type": "markdown",
   "id": "7486f0c6",
   "metadata": {},
   "source": [
    "- #### majority of customers have 16years of Education"
   ]
  },
  {
   "cell_type": "code",
   "execution_count": 56,
   "id": "cb917e05",
   "metadata": {},
   "outputs": [
    {
     "data": {
      "image/png": "[encoded data removed]",
      "text/plain": [
       "<Figure size 360x360 with 1 Axes>"
      ]
     },
     "metadata": {
      "needs_background": "light"
     },
     "output_type": "display_data"
    }
   ],
   "source": [
    "sns.displot(df, x=\"Usage\", color = 'teal')\n",
    "plt.title(\"Customer's Usage\");\n",
    "plt.ylabel(\"Count of usage\");"
   ]
  },
  {
   "cell_type": "code",
   "execution_count": 58,
   "id": "c792d4a8",
   "metadata": {},
   "outputs": [
    {
     "data": {
      "image/png": "[encoded data removed]",
      "text/plain": [
       "<Figure size 360x360 with 1 Axes>"
      ]
     },
     "metadata": {
      "needs_background": "light"
     },
     "output_type": "display_data"
    }
   ],
   "source": [
    "sns.displot(df, x=\"Fitness\", color = 'teal')\n",
    "plt.title(\"Customer's Fitness\");\n",
    "plt.ylabel(\"Count of Fitness\");"
   ]
  },
  {
   "cell_type": "markdown",
   "id": "40cd9ea4",
   "metadata": {},
   "source": [
    "- #### Majority of the customer claims to have fitness beween 3.0 ad 3.5"
   ]
  },
  {
   "cell_type": "code",
   "execution_count": 65,
   "id": "6fd26d47",
   "metadata": {},
   "outputs": [
    {
     "data": {
      "image/png": "[encoded data removed]",
      "text/plain": [
       "<Figure size 360x360 with 1 Axes>"
      ]
     },
     "metadata": {
      "needs_background": "light"
     },
     "output_type": "display_data"
    }
   ],
   "source": [
    "sns.displot(df, x=\"Income\", color = 'teal')\n",
    "plt.title(\"Customer's Income\");\n",
    "plt.ylabel(\"Count of Income\");"
   ]
  },
  {
   "cell_type": "markdown",
   "id": "57ed156f",
   "metadata": {},
   "source": [
    "- #### Majority of the customer's income is between the range of 45000 and 55000"
   ]
  },
  {
   "cell_type": "code",
   "execution_count": 66,
   "id": "7e89fdd3",
   "metadata": {},
   "outputs": [
    {
     "data": {
      "image/png": "[encoded data removed]",
      "text/plain": [
       "<Figure size 360x360 with 1 Axes>"
      ]
     },
     "metadata": {
      "needs_background": "light"
     },
     "output_type": "display_data"
    }
   ],
   "source": [
    "sns.displot(df, x=\"Miles\", color = 'teal')\n",
    "plt.title(\"Customer's Miles\");\n",
    "plt.ylabel(\"Count of Miles\");"
   ]
  },
  {
   "cell_type": "markdown",
   "id": "d3eebebc",
   "metadata": {},
   "source": [
    "Majority of the customers are expected to run between 80 and 100miles"
   ]
  },
  {
   "cell_type": "markdown",
   "id": "d9914ffc",
   "metadata": {},
   "source": [
    "- #### We can't use this univariant analysis to make decision regarding this business as we have three products and its important to exclusively look at the characteristics of each customer that patronises each product\n",
    "- #### The major aim is to get customers that will use the products more often , so we need to also look at the chracteristics of people that uses a paticular product"
   ]
  },
  {
   "cell_type": "markdown",
   "id": "921c301f",
   "metadata": {},
   "source": [
    "### 4b. Multivariant Analysis"
   ]
  },
  {
   "cell_type": "code",
   "execution_count": 87,
   "id": "eef6bc61",
   "metadata": {},
   "outputs": [
    {
     "data": {
      "image/png": "[encoded data removed]",
      "text/plain": [
       "<Figure size 432x288 with 1 Axes>"
      ]
     },
     "metadata": {
      "needs_background": "light"
     },
     "output_type": "display_data"
    }
   ],
   "source": [
    "GenderPU =df.groupby(['Product','Gender', 'Usage']).agg(sum_usage =(\"Usage\",'sum'))\n",
    "GenderPU = GenderPU.reset_index()\n",
    "sns.barplot(x=\"Product\", y=\"sum_usage\", hue=\"Gender\", data=GenderPU);"
   ]
  },
  {
   "cell_type": "markdown",
   "id": "baa55113",
   "metadata": {},
   "source": [
    "- #### Each product is used by men more frequently than by women\n",
    "- #### The difference between the Male usage for product TM798 is higher compared to the other two products whereas there is not much differnce for the other two products"
   ]
  },
  {
   "cell_type": "code",
   "execution_count": 88,
   "id": "415117d5",
   "metadata": {},
   "outputs": [
    {
     "data": {
      "image/png": "[encoded data removed]",
      "text/plain": [
       "<Figure size 432x288 with 1 Axes>"
      ]
     },
     "metadata": {
      "needs_background": "light"
     },
     "output_type": "display_data"
    }
   ],
   "source": [
    "EducationPU =df.groupby(['Product', 'Education','Usage']).agg(sum_usage =(\"Usage\",'sum'))\n",
    "EducationPU = EducationPU.reset_index()\n",
    "sns.barplot(x=\"Product\", y=\"sum_usage\", hue=\"Education\", data=EducationPU);"
   ]
  },
  {
   "cell_type": "markdown",
   "id": "c4ce72d1",
   "metadata": {},
   "source": [
    "- #### Majority of the customer that uses product TM195 and TM498 have 16years followed by 14years of Education \n",
    "- #### Majority of the customer that uses produc TM798 have 18year followed by 16years of Education"
   ]
  },
  {
   "cell_type": "code",
   "execution_count": 94,
   "id": "ee698acb",
   "metadata": {},
   "outputs": [
    {
     "data": {
      "image/png": "[encoded data removed]",
      "text/plain": [
       "<Figure size 432x288 with 1 Axes>"
      ]
     },
     "metadata": {
      "needs_background": "light"
     },
     "output_type": "display_data"
    }
   ],
   "source": [
    "MSPU =df.groupby(['Product', 'MaritalStatus','Usage']).agg(sum_usage =(\"Usage\",'sum'))\n",
    "MSPU = MSPU.reset_index()\n",
    "sns.barplot(x=\"Product\", y=\"sum_usage\", hue='MaritalStatus', data=MSPU);"
   ]
  },
  {
   "cell_type": "markdown",
   "id": "7a55cd1d",
   "metadata": {},
   "source": [
    "- #### Patnered customers uses each product more often than the singles\n",
    "- #### There's a huge difference in the usage of patnered customer in product TM195 compared to the other two products"
   ]
  },
  {
   "cell_type": "code",
   "execution_count": 95,
   "id": "cab0e9b5",
   "metadata": {},
   "outputs": [
    {
     "data": {
      "image/png": "[encoded data removed]",
      "text/plain": [
       "<Figure size 432x288 with 1 Axes>"
      ]
     },
     "metadata": {
      "needs_background": "light"
     },
     "output_type": "display_data"
    }
   ],
   "source": [
    "FitPU =df.groupby(['Product', 'Fitness','Usage']).agg(sum_usage =(\"Usage\",'sum'))\n",
    "FitPU = FitPU.reset_index()\n",
    "sns.barplot(x=\"Product\", y=\"sum_usage\", hue='Fitness', data=FitPU);"
   ]
  },
  {
   "cell_type": "markdown",
   "id": "a62c84c3",
   "metadata": {},
   "source": [
    "- #### Most of the customers that uses product TM195 and TM495 more often claim to have a fitness of 3\n",
    "- #### Most of thr customers that uses product TM798 claim to have fitness of 5"
   ]
  },
  {
   "cell_type": "code",
   "execution_count": 149,
   "id": "198d6b77",
   "metadata": {},
   "outputs": [],
   "source": [
    "df['Age_range'] = pd.cut(df.Age, bins=[0,17,25,35,50,100], labels=['0-17','18-25','26-35','36-50', '51+'])\n",
    "df['Miles_range'] = pd.cut(df.Miles, bins=[0,59,120,180,240,1000], labels=['0-59','60-120','121-180','181-240', '240+'])\n",
    "df['Income_range'] = pd.cut(df.Income, bins=[0,20000,49000,70000,99000,1000000], labels=['0-20k','21k-49k','50k-70k','71k-99k', '100k+'])"
   ]
  },
  {
   "cell_type": "markdown",
   "id": "bf46639f",
   "metadata": {},
   "source": [
    "- #### Here we calaculated the range for Age, Miles and Education as its not presentable to use so much values for visualization\n",
    "- #### Since we already know the minimum and maximum and also the average of each variable, I used this to create the range of each variable under consideration"
   ]
  },
  {
   "cell_type": "code",
   "execution_count": 148,
   "id": "c416f78c",
   "metadata": {},
   "outputs": [
    {
     "data": {
      "image/png": "[encoded data removed]",
      "text/plain": [
       "<Figure size 432x288 with 1 Axes>"
      ]
     },
     "metadata": {
      "needs_background": "light"
     },
     "output_type": "display_data"
    }
   ],
   "source": [
    "AgePU =df.groupby(['Product', 'Age_range','Usage']).agg(sum_usage =(\"Usage\",'sum'))\n",
    "AgePU = AgePU.reset_index()\n",
    "sns.barplot(x=\"Product\", y=\"sum_usage\", hue='Age_range', data=AgePU);"
   ]
  },
  {
   "cell_type": "markdown",
   "id": "7ad97896",
   "metadata": {},
   "source": [
    "- #### Majority of the customers that uses each product are between the age of 18-35\n",
    "- #### More people between the age of 18-25 uses product TM195 and TM498 more often\n",
    "- #### More people between the age of 26-35 uses product TM798 more often"
   ]
  },
  {
   "cell_type": "code",
   "execution_count": 140,
   "id": "15a6068e",
   "metadata": {},
   "outputs": [
    {
     "data": {
      "image/png": "[encoded data removed]",
      "text/plain": [
       "<Figure size 432x288 with 1 Axes>"
      ]
     },
     "metadata": {
      "needs_background": "light"
     },
     "output_type": "display_data"
    }
   ],
   "source": [
    "MilesPU =df.groupby(['Product', 'Miles_range','Usage']).agg(sum_usage =(\"Usage\",'sum'))\n",
    "MilesPU = MilesPU.reset_index()\n",
    "sns.barplot(x=\"Product\", y=\"sum_usage\", hue='Miles_range', data=MilesPU);"
   ]
  },
  {
   "cell_type": "markdown",
   "id": "620f8cb9",
   "metadata": {},
   "source": [
    "- #### Majority of the customers that uses product TM195 and TM498 expects to run between 60-120miles\n",
    "- #### Majority of the customers that uses product TM798 expets to run between 121-180miles"
   ]
  },
  {
   "cell_type": "code",
   "execution_count": 142,
   "id": "4f868762",
   "metadata": {},
   "outputs": [
    {
     "data": {
      "image/png": "[encoded data removed]",
      "text/plain": [
       "<Figure size 432x288 with 1 Axes>"
      ]
     },
     "metadata": {
      "needs_background": "light"
     },
     "output_type": "display_data"
    }
   ],
   "source": [
    "IncomePU =df.groupby(['Product', 'Income_range','Usage']).agg(sum_usage =(\"Usage\",'sum'))\n",
    "IncomePU = IncomePU.reset_index()\n",
    "sns.barplot(x=\"Product\", y=\"sum_usage\", hue='Income_range', data=IncomePU);"
   ]
  },
  {
   "cell_type": "markdown",
   "id": "f3e10f0e",
   "metadata": {},
   "source": [
    "- #### Only customers within the income range of 21-49k and 50-70k uses TM195 with majority having income range of 21-49k\n",
    "- #### Only customers within the income range of 21-70k and 50-70k with almost equal usage rate\n",
    "- #### Mos of the customers that patronises TM798 are within the income range of 71k-99k"
   ]
  },
  {
   "cell_type": "markdown",
   "id": "bd56395a",
   "metadata": {},
   "source": [
    "## Step 5: Conclusion"
   ]
  },
  {
   "cell_type": "markdown",
   "id": "9c051fc8",
   "metadata": {},
   "source": [
    "- #### From the analysis above it is evident that the customers that uses TM195 and TM498 have similar characteristics with only few differences and this products are patronised more than TM798 with customers with totatlly different characteristic\n",
    "- #### The only differnce between the characteristic of customer who patronises TM195 and TM498 is the Income TM!95 having more customer with income range between 21-49k"
   ]
  },
  {
   "cell_type": "markdown",
   "id": "a0ef128e",
   "metadata": {},
   "source": [
    "### Step 6: Reccomendation"
   ]
  },
  {
   "cell_type": "markdown",
   "id": "7729848b",
   "metadata": {},
   "source": [
    "#### The company should target customers with the following characteristic;\n",
    "TM195:Single and married people who ae Low income earners between the range of 21-49k with the following attributes\n",
    "- People who expects to run 60-120miles\n",
    "- People within the age range of 18-35\n",
    "- people who belive they're averagely fit with fitness of 3\n",
    "- people who have 14 and 16 years of Education\n",
    "\n",
    "TM498:Single and married people who are low or medium income earners between the range of 21-70k with the following attributes\n",
    "- People who expects to run 60-120miles\n",
    "- People within the age range of 18-25\n",
    "- people who belive they're averagely fit with fitness of 3\n",
    "- people who have 14 and 16 years of Education\n",
    "\n",
    "TM498:Single and married people who are Medium and High income earners between the range of 50-99k with the following attributes\n",
    "- People who expects to run 121-180 miles\n",
    "- People within the age range of 18-35\n",
    "- people who belive they're very fit with fitness of 5\n",
    "- people who have 18 and 16 years of Education"
   ]
  },
  {
   "cell_type": "code",
   "execution_count": null,
   "id": "a1df2c74",
   "metadata": {},
   "outputs": [],
   "source": []
  }
 ],
 "metadata": {
  "kernelspec": {
   "display_name": "Python 3 (ipykernel)",
   "language": "python",
   "name": "python3"
  },
  "language_info": {
   "codemirror_mode": {
    "name": "ipython",
    "version": 3
   },
   "file_extension": ".py",
   "mimetype": "text/x-python",
   "name": "python",
   "nbconvert_exporter": "python",
   "pygments_lexer": "ipython3",
   "version": "3.9.7"
  }
 },
 "nbformat": 4,
 "nbformat_minor": 5
}
